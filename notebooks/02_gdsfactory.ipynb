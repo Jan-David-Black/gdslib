{
 "cells": [
  {
   "cell_type": "code",
   "execution_count": null,
   "metadata": {},
   "outputs": [],
   "source": [
    "\n",
    "import pp\n",
    "from simphony.library.gdsfactory import load\n",
    "from simphony.library.gdsfactory import plot_sparameters\n",
    "\n",
    "\n",
    "def coupler_ring(c=pp.c.coupler_ring, **kwargs):\n",
    "    \"\"\" coupler for half a ring\n",
    "\n",
    "    .. code::\n",
    "\n",
    "           N0            N1\n",
    "           |             |\n",
    "            \\           /\n",
    "             \\         /\n",
    "           ---=========---\n",
    "        W0    length_x    E0\n",
    "    \"\"\"\n",
    "    m = load(c, **kwargs)\n",
    "    return m\n",
    "\n",
    "c = coupler_ring()\n",
    "plot_sparameters(c)\n",
    "# c = sweep_simulation(c)"
   ]
  }
 ],
 "metadata": {},
 "nbformat": 4,
 "nbformat_minor": 4
}
