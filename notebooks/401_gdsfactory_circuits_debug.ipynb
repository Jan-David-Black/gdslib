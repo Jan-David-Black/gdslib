{
 "cells": [
  {
   "cell_type": "markdown",
   "metadata": {},
   "source": [
    "# Circuit (from gdsfactory)\n",
    "\n",
    "You can import circuits from gdsfactory"
   ]
  },
  {
   "cell_type": "code",
   "execution_count": null,
   "metadata": {},
   "outputs": [],
   "source": [
    "from typing import Callable\n",
    "from simphony.library import siepic\n",
    "from simphony.netlist import Subcircuit\n",
    "import pp\n",
    "\n",
    "import gdslib as gl\n",
    "from gdslib.components import component_factory"
   ]
  },
  {
   "cell_type": "markdown",
   "metadata": {},
   "source": [
    "## Mzi"
   ]
  },
  {
   "cell_type": "code",
   "execution_count": null,
   "metadata": {},
   "outputs": [],
   "source": [
    "def model_factory(model_name, **settings):\n",
    "    return component_factory[model_name](**settings)\n",
    "\n",
    "component = pp.c.mzi(DL=50)\n",
    "component = pp.call_if_func(component)\n",
    "\n",
    "pp.show(component)\n",
    "n = component.get_netlist()\n",
    "\n",
    "circuit = Subcircuit(component.name)\n",
    "model_names = []\n",
    "model_name_tuple = []\n",
    "\n",
    "for i in n.instances.keys():\n",
    "    component_type = n.instances[i][\"component\"]\n",
    "    if component_type is None:\n",
    "        continue\n",
    "\n",
    "    if component_type not in component_factory:\n",
    "        print(\n",
    "            f\"skipping component `{component_type}` as it is not in {list(component_factory.keys())}\"\n",
    "        )\n",
    "        continue\n",
    "    component_settings = n.instances[i][\"settings\"]\n",
    "    model = model_factory(component_type, **component_settings)\n",
    "    model_names.append(i)\n",
    "    model_name_tuple.append((model, i))\n",
    "\n",
    "circuit.add(model_name_tuple)\n",
    "\n",
    "for k, v in n.connections.items():\n",
    "    c1, p1 = k.split(\",\")\n",
    "    c2, p2 = v.split(\",\")\n",
    "    if c1 in model_names and c2 in model_names:\n",
    "        circuit.connect(c1, p1, c2, p2)\n"
   ]
  },
  {
   "cell_type": "code",
   "execution_count": null,
   "metadata": {},
   "outputs": [],
   "source": [
    "gl.plot_circuit(circuit, pin_in='W0', pins_out=['E0'])"
   ]
  },
  {
   "cell_type": "code",
   "execution_count": null,
   "metadata": {},
   "outputs": [],
   "source": [
    "circuit.elements.elements"
   ]
  },
  {
   "cell_type": "code",
   "execution_count": null,
   "metadata": {},
   "outputs": [],
   "source": [
    "gl.ren"
   ]
  },
  {
   "cell_type": "code",
   "execution_count": null,
   "metadata": {},
   "outputs": [],
   "source": [
    "circuit.elements.elements"
   ]
  },
  {
   "cell_type": "markdown",
   "metadata": {},
   "source": [
    "## 1x2 Tree"
   ]
  },
  {
   "cell_type": "code",
   "execution_count": null,
   "metadata": {},
   "outputs": [],
   "source": [
    "def model_factory(model_name, **settings):\n",
    "    return component_factory[model_name](**settings)\n",
    "\n",
    "component = pp.c.splitter_chain(n_devices=2)\n",
    "component = pp.call_if_func(component)\n",
    "\n",
    "pp.show(component)\n",
    "n = component.get_netlist()\n",
    "\n",
    "circuit = Subcircuit(component.name)\n",
    "model_names = []\n",
    "\n",
    "\n",
    "for i in n.instances.keys():\n",
    "    component_type = n.instances[i][\"component\"]\n",
    "    if component_type is None:\n",
    "        continue\n",
    "        \n",
    "    if component_type not in component_factory:\n",
    "        print(f'skipping component `{component_type}` as it is not in {list(component_factory.keys())}')\n",
    "        continue\n",
    "    component_settings = n.instances[i][\"settings\"]\n",
    "    model = model_factory(component_type, **component_settings)\n",
    "    circuit.add([model, i])\n",
    "    model_names.append(i)\n",
    "\n",
    "for k, v in n.connections.items():\n",
    "    c1, p1 = k.split(\",\")\n",
    "    c2, p2 = v.split(\",\")\n",
    "    if c1 in model_names and c2 in model_names:\n",
    "        circuit.connect(c1, p1, c2, p2)"
   ]
  },
  {
   "cell_type": "code",
   "execution_count": null,
   "metadata": {},
   "outputs": [],
   "source": [
    "circuit.elements.elements"
   ]
  },
  {
   "cell_type": "code",
   "execution_count": null,
   "metadata": {},
   "outputs": [],
   "source": [
    "for e in circuit.elements.elements:\n",
    "    print(e)"
   ]
  },
  {
   "cell_type": "code",
   "execution_count": null,
   "metadata": {},
   "outputs": [],
   "source": [
    "circuit.pins"
   ]
  },
  {
   "cell_type": "code",
   "execution_count": null,
   "metadata": {},
   "outputs": [],
   "source": [
    "gl.plot_circuit(circuit)"
   ]
  },
  {
   "cell_type": "code",
   "execution_count": null,
   "metadata": {},
   "outputs": [],
   "source": [
    "model.name"
   ]
  },
  {
   "cell_type": "code",
   "execution_count": null,
   "metadata": {},
   "outputs": [],
   "source": [
    "model.pins"
   ]
  },
  {
   "cell_type": "code",
   "execution_count": null,
   "metadata": {},
   "outputs": [],
   "source": [
    "component_type"
   ]
  },
  {
   "cell_type": "code",
   "execution_count": null,
   "metadata": {},
   "outputs": [],
   "source": [
    "i"
   ]
  },
  {
   "cell_type": "code",
   "execution_count": null,
   "metadata": {},
   "outputs": [],
   "source": []
  },
  {
   "cell_type": "code",
   "execution_count": null,
   "metadata": {},
   "outputs": [],
   "source": []
  }
 ],
 "metadata": {
  "kernelspec": {
   "display_name": "Python 3",
   "language": "python",
   "name": "python3"
  },
  "language_info": {
   "codemirror_mode": {
    "name": "ipython",
    "version": 3
   },
   "file_extension": ".py",
   "mimetype": "text/x-python",
   "name": "python",
   "nbconvert_exporter": "python",
   "pygments_lexer": "ipython3",
   "version": "3.8.3"
  }
 },
 "nbformat": 4,
 "nbformat_minor": 4
}
