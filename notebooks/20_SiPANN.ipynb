{
 "cells": [
  {
   "cell_type": "markdown",
   "metadata": {},
   "source": [
    "# SiPANN\n",
    "\n",
    "We can also leverage the sipann compact model library.\n",
    "\n",
    "You can even sweep variables.\n",
    "\n",
    "\n",
    "## Coupler ring"
   ]
  },
  {
   "cell_type": "code",
   "execution_count": null,
   "metadata": {},
   "outputs": [],
   "source": [
    "import numpy as np\n",
    "import matplotlib.pyplot as plt\n",
    "from gdslib.components.coupler_ring_sipann import coupler_ring_sipann\n",
    "import pp\n",
    "\n",
    "pp.qp(pp.c.coupler_ring())\n",
    "\n",
    "def pltAttr(x, y, title=None, legend='upper right', save=None):\n",
    "    if legend is not None:\n",
    "        plt.legend(loc=legend)\n",
    "    plt.xlabel(x)\n",
    "    plt.ylabel(y)\n",
    "    if title is not None:\n",
    "        plt.title(title)\n",
    "    if save is not None:\n",
    "        plt.savefig(save)\n",
    "\n",
    "\n",
    "hr = coupler_ring_sipann()\n",
    "r = np.linspace(5000, 50000, 100)\n",
    "wavelength = 1550\n",
    "hr.update(radius=r)\n",
    "\n",
    "k = hr.predict((1,4), wavelength)\n",
    "t = hr.predict((1,3), wavelength)\n",
    "\n",
    "plt.figure(figsize=(15,5))\n",
    "plt.subplot(121)\n",
    "plt.plot(r/1e3, np.abs(k)**2, label='k')\n",
    "plt.plot(r/1e3, np.abs(t)**2, label='t')\n",
    "pltAttr('Radius (nm)', 'Magnitude Squared', 'HalfRing $\\lambda=1550$')\n",
    "\n",
    "plt.subplot(122)\n",
    "plt.plot(r/1e3, np.unwrap(np.angle(k)), label='k')\n",
    "plt.plot(r/1e3, -np.unwrap(np.angle(t)), label='t')\n",
    "pltAttr('Radius (um)', 'Phase (rad)', 'HalfRing $\\lambda=1550$')"
   ]
  },
  {
   "cell_type": "markdown",
   "metadata": {},
   "source": [
    "## Coupler"
   ]
  },
  {
   "cell_type": "code",
   "execution_count": null,
   "metadata": {},
   "outputs": [],
   "source": [
    "import numpy as np\n",
    "import matplotlib.pyplot as plt\n",
    "from gdslib.components.coupler_sipann import coupler_sipann\n",
    "import pp\n",
    "\n",
    "pp.qp(pp.c.coupler())\n",
    "\n",
    "def pltAttr(x, y, title=None, legend='upper right', save=None):\n",
    "    if legend is not None:\n",
    "        plt.legend(loc=legend)\n",
    "    plt.xlabel(x)\n",
    "    plt.ylabel(y)\n",
    "    if title is not None:\n",
    "        plt.title(title)\n",
    "    if save is not None:\n",
    "        plt.savefig(save)\n",
    "\n",
    "\n",
    "hr = coupler_sipann()\n",
    "length = np.linspace(10, 70, 100)*1e3\n",
    "wavelength = 1550\n",
    "hr.update(length=length)\n",
    "\n",
    "k = hr.predict((1,4), wavelength)\n",
    "t = hr.predict((1,3), wavelength)\n",
    "\n",
    "plt.figure(figsize=(15,5))\n",
    "plt.subplot(121)\n",
    "plt.plot(length/1e3, np.abs(k)**2, label='k')\n",
    "plt.plot(length/1e3, np.abs(t)**2, label='t')\n",
    "pltAttr('coupler length (nm)', 'Magnitude Squared', 'coupler length $\\lambda=1550$')\n",
    "\n",
    "plt.subplot(122)\n",
    "plt.plot(length/1e3, np.unwrap(np.angle(k)), label='k')\n",
    "plt.plot(length/1e3, -np.unwrap(np.angle(t)), label='t')\n",
    "pltAttr('coupler length (um)', 'Phase (rad)', 'coupler length $\\lambda=1550$')"
   ]
  },
  {
   "cell_type": "code",
   "execution_count": null,
   "metadata": {},
   "outputs": [],
   "source": []
  }
 ],
 "metadata": {
  "kernelspec": {
   "display_name": "Python 3",
   "language": "python",
   "name": "python3"
  },
  "language_info": {
   "codemirror_mode": {
    "name": "ipython",
    "version": 3
   },
   "file_extension": ".py",
   "mimetype": "text/x-python",
   "name": "python",
   "nbconvert_exporter": "python",
   "pygments_lexer": "ipython3",
   "version": "3.7.7"
  }
 },
 "nbformat": 4,
 "nbformat_minor": 4
}
