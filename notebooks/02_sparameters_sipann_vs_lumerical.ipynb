{
 "cells": [
  {
   "cell_type": "markdown",
   "metadata": {},
   "source": [
    "# Sparameters SiPANN vs Lumerical FDTD\n",
    "\n",
    "Lets compare Lumerical 3D FDTD simulations with SiPANN models.\n",
    "\n",
    "The responses match quite well for different gaps and bend_radius. Therefore I feel comfortable using the compact models from SiPANN\n",
    "\n",
    "\n",
    "## Coupler ring"
   ]
  },
  {
   "cell_type": "code",
   "execution_count": null,
   "metadata": {},
   "outputs": [],
   "source": [
    "import numpy as np\n",
    "import gdslib as gl\n",
    "from gdslib.components.coupler_ring2 import coupler_ring2\n",
    "import pp\n",
    "\n",
    "c = pp.c.coupler_ring()\n",
    "pp.qp(c)"
   ]
  },
  {
   "cell_type": "code",
   "execution_count": null,
   "metadata": {},
   "outputs": [],
   "source": [
    "def compare_coupler_ring_sipann_fdtd(length_x, bend_radius, gap):\n",
    "    m1 = coupler_ring2(length_x=length_x, bend_radius=bend_radius, gap=gap)\n",
    "    m2 = gl.c.coupler_ring(length_x=length_x, bend_radius=bend_radius, gap=gap)\n",
    "    wavelengths = np.linspace(1450, 1650, 1024) * 1e-9\n",
    "\n",
    "    gl.plot_model(m1, wavelengths=wavelengths)\n",
    "    gl.plot_model(m2, wavelengths=wavelengths)"
   ]
  },
  {
   "cell_type": "code",
   "execution_count": null,
   "metadata": {},
   "outputs": [],
   "source": [
    "length_x = 1\n",
    "bend_radius = 10\n",
    "gap = 0.2\n",
    "compare_coupler_ring_sipann_fdtd(length_x, bend_radius, gap)"
   ]
  },
  {
   "cell_type": "code",
   "execution_count": null,
   "metadata": {},
   "outputs": [],
   "source": [
    "length_x = 3\n",
    "bend_radius = 10\n",
    "gap = 0.2\n",
    "compare_coupler_ring_sipann_fdtd(length_x, bend_radius, gap)"
   ]
  },
  {
   "cell_type": "code",
   "execution_count": null,
   "metadata": {},
   "outputs": [],
   "source": [
    "length_x = 1\n",
    "bend_radius = 5\n",
    "gap = 0.15\n",
    "compare_coupler_ring_sipann_fdtd(length_x, bend_radius, gap)"
   ]
  },
  {
   "cell_type": "code",
   "execution_count": null,
   "metadata": {},
   "outputs": [],
   "source": [
    "length_x = 1\n",
    "bend_radius = 5\n",
    "gap = 0.15\n",
    "\n",
    "m1 = coupler_ring2(length_x=length_x, bend_radius=bend_radius, gap=gap)\n",
    "m2 = gl.c.coupler_ring(length_x=length_x, bend_radius=bend_radius, gap=gap)\n",
    "wavelengths = np.linspace(1450, 1650, 1024) * 1e-9\n",
    "\n",
    "gl.plot_model(m1, wavelengths=wavelengths)\n",
    "gl.plot_model(m2, wavelengths=wavelengths)"
   ]
  },
  {
   "cell_type": "code",
   "execution_count": null,
   "metadata": {},
   "outputs": [],
   "source": [
    "length_x = 4\n",
    "bend_radius = 5\n",
    "gap = 0.15\n",
    "\n",
    "m1 = coupler_ring2(length_x=length_x, bend_radius=bend_radius, gap=gap)\n",
    "m2 = gl.c.coupler_ring(length_x=length_x, bend_radius=bend_radius, gap=gap)\n",
    "wavelengths = np.linspace(1450, 1650, 1024) * 1e-9\n",
    "\n",
    "gl.plot_model(m1, wavelengths=wavelengths)\n",
    "gl.plot_model(m2, wavelengths=wavelengths)"
   ]
  },
  {
   "cell_type": "markdown",
   "metadata": {},
   "source": [
    "## Coupler"
   ]
  },
  {
   "cell_type": "code",
   "execution_count": null,
   "metadata": {},
   "outputs": [],
   "source": [
    "import numpy as np\n",
    "import gdslib as gl\n",
    "from gdslib.components.coupler2 import coupler2\n",
    "import pp\n",
    "\n",
    "c = pp.c.coupler()\n",
    "pp.qp(c)\n",
    "pp.show(c)"
   ]
  },
  {
   "cell_type": "code",
   "execution_count": null,
   "metadata": {},
   "outputs": [],
   "source": [
    "length = 20\n",
    "gap = 0.224\n",
    "\n",
    "c = pp.c.coupler(length=length, gap=gap)\n",
    "m1 = coupler2(c=c)\n",
    "m2 = gl.c.coupler(length=length, gap=gap, H=2)\n",
    "wavelengths = np.linspace(1450, 1650, 1024) * 1e-9\n",
    "\n",
    "gl.plot_model(m1, wavelengths=wavelengths)\n",
    "gl.plot_model(m2, wavelengths=wavelengths)"
   ]
  },
  {
   "cell_type": "code",
   "execution_count": null,
   "metadata": {},
   "outputs": [],
   "source": [
    "length = 20\n",
    "gap = 0.224\n",
    "\n",
    "c = pp.c.coupler(length=length, gap=gap)\n",
    "m1 = coupler2(c=c)\n",
    "m2 = gl.c.coupler(length=length, gap=gap, V=0, H=1.5)\n",
    "wavelengths = np.linspace(1450, 1650, 1024) * 1e-9\n",
    "\n",
    "gl.plot_model(m1, wavelengths=wavelengths)\n",
    "gl.plot_model(m2, wavelengths=wavelengths)"
   ]
  },
  {
   "cell_type": "code",
   "execution_count": null,
   "metadata": {},
   "outputs": [],
   "source": []
  }
 ],
 "metadata": {
  "kernelspec": {
   "display_name": "Python 3",
   "language": "python",
   "name": "python3"
  },
  "language_info": {
   "codemirror_mode": {
    "name": "ipython",
    "version": 3
   },
   "file_extension": ".py",
   "mimetype": "text/x-python",
   "name": "python",
   "nbconvert_exporter": "python",
   "pygments_lexer": "ipython3",
   "version": "3.7.7"
  }
 },
 "nbformat": 4,
 "nbformat_minor": 4
}
