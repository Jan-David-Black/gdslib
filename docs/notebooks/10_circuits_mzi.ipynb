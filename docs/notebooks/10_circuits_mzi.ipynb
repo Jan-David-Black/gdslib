{
 "cells": [
  {
   "cell_type": "markdown",
   "metadata": {},
   "source": [
    "# Circuit simulations\n",
    "\n",
    "Simphony can also chain components into circuits"
   ]
  },
  {
   "cell_type": "code",
   "execution_count": null,
   "metadata": {},
   "outputs": [],
   "source": [
    "import matplotlib.pyplot as plt\n",
    "import gdslib as gl\n"
   ]
  },
  {
   "cell_type": "code",
   "execution_count": null,
   "metadata": {},
   "outputs": [],
   "source": [
    "import pp\n",
    "\n",
    "c = pp.components.mzi(delta_length=10)\n",
    "c"
   ]
  },
  {
   "cell_type": "code",
   "execution_count": null,
   "metadata": {},
   "outputs": [],
   "source": [
    "c.plot_netlist()"
   ]
  },
  {
   "cell_type": "code",
   "execution_count": null,
   "metadata": {},
   "outputs": [],
   "source": [
    "circuit = gl.components.mzi(delta_length=10, splitter=gl.c.mmi1x2)\n",
    "\n",
    "gl.plot_circuit(\n",
    "    circuit,\n",
    "    start=1500e-9,\n",
    "    stop=1600e-9,\n",
    "    logscale=True,\n",
    ")"
   ]
  },
  {
   "cell_type": "code",
   "execution_count": null,
   "metadata": {},
   "outputs": [],
   "source": [
    "circuit = gl.components.mzi(delta_length=100, splitter=gl.c.mmi1x2)\n",
    "\n",
    "gl.plot_circuit(\n",
    "    circuit,\n",
    "    start=1500e-9,\n",
    "    stop=1600e-9,\n",
    "    logscale=True,\n",
    ")"
   ]
  },
  {
   "cell_type": "code",
   "execution_count": null,
   "metadata": {},
   "outputs": [],
   "source": [
    "for element in circuit.elements:\n",
    "    print(element)"
   ]
  },
  {
   "cell_type": "markdown",
   "metadata": {},
   "source": [
    "Lets add grating couplers to the mzi circuit."
   ]
  },
  {
   "cell_type": "code",
   "execution_count": null,
   "metadata": {},
   "outputs": [],
   "source": [
    "c = gl.c.gc1550te()\n",
    "gl.plot_model(c, pin_in='port 1')"
   ]
  },
  {
   "cell_type": "code",
   "execution_count": null,
   "metadata": {},
   "outputs": [],
   "source": [
    "mzi_layout= pp.components.mzi(delta_length=100)\n",
    "mzi_with_gc_layout = pp.routing.add_fiber_single(component=mzi_layout, with_align_ports=False)\n",
    "mzi_with_gc_layout"
   ]
  },
  {
   "cell_type": "code",
   "execution_count": null,
   "metadata": {},
   "outputs": [],
   "source": [
    "circuit_gc = gl.add_gc(circuit=circuit, gc=gl.c.gc1550te)\n",
    "\n",
    "gl.plot_circuit(\n",
    "    circuit_gc,\n",
    "    start=1520e-9,\n",
    "    stop=1580e-9,\n",
    "    logscale=True,\n",
    ")"
   ]
  },
  {
   "cell_type": "markdown",
   "metadata": {},
   "source": [
    "## Montecarlo sweep variation\n",
    "\n",
    "We can also account for montecarlo variations of the circuits\n",
    "\n",
    "FIXME"
   ]
  },
  {
   "cell_type": "code",
   "execution_count": null,
   "metadata": {},
   "outputs": [],
   "source": [
    "gl.plot_circuit_montecarlo(\n",
    "    circuit_gc,\n",
    "    start=1500e-9,\n",
    "    stop=1600e-9,\n",
    "    logscale=True,\n",
    "    runs=10\n",
    ")"
   ]
  },
  {
   "cell_type": "code",
   "execution_count": null,
   "metadata": {},
   "outputs": [],
   "source": []
  }
 ],
 "metadata": {
  "kernelspec": {
   "display_name": "Python 3",
   "language": "python",
   "name": "python3"
  },
  "language_info": {
   "codemirror_mode": {
    "name": "ipython",
    "version": 3
   },
   "file_extension": ".py",
   "mimetype": "text/x-python",
   "name": "python",
   "nbconvert_exporter": "python",
   "pygments_lexer": "ipython3",
   "version": "3.8.3"
  }
 },
 "nbformat": 4,
 "nbformat_minor": 4
}
