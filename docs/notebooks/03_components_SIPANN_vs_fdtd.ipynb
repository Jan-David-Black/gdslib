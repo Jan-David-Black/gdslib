{
 "cells": [
  {
   "cell_type": "markdown",
   "metadata": {},
   "source": [
    "# Sparameters SiPANN vs Lumerical FDTD\n",
    "\n",
    "Lets compare Lumerical 3D FDTD simulations with SiPANN models.\n",
    "\n",
    "The responses match quite well for different gaps and bend_radius. Therefore I feel comfortable using the compact models from SiPANN\n",
    "\n",
    "\n",
    "## Coupler ring"
   ]
  },
  {
   "cell_type": "code",
   "execution_count": null,
   "metadata": {},
   "outputs": [],
   "source": [
    "import numpy as np\n",
    "import matplotlib.pyplot as plt\n",
    "import gdslib as gl\n",
    "import gdslib.simphony.components as gc\n",
    "import gdslib.simphony as gs\n",
    "import gdsfactory as gf\n",
    "\n",
    "from gdslib.simphony.components.coupler_ring_fdtd import coupler_ring_fdtd\n",
    "\n",
    "c = gf.components.coupler_ring()\n",
    "c"
   ]
  },
  {
   "cell_type": "code",
   "execution_count": null,
   "metadata": {},
   "outputs": [],
   "source": [
    "def compare_coupler_ring_sipann_fdtd(length_x, radius, gap):\n",
    "    m1 = coupler_ring_fdtd(length_x=length_x, radius=radius, gap=gap)\n",
    "    m2 = gc.coupler_ring(length_x=length_x, radius=radius, gap=gap)\n",
    "    wavelengths = np.linspace(1450, 1650, 1024) * 1e-9\n",
    "\n",
    "    gs.plot_model(m1, wavelengths=wavelengths)\n",
    "    gs.plot_model(m2, wavelengths=wavelengths)"
   ]
  },
  {
   "cell_type": "code",
   "execution_count": null,
   "metadata": {},
   "outputs": [],
   "source": [
    "length_x = 1\n",
    "radius = 10\n",
    "gap = 0.2\n",
    "compare_coupler_ring_sipann_fdtd(length_x, radius, gap)\n",
    "plt.ylim([-20, 0])"
   ]
  },
  {
   "cell_type": "code",
   "execution_count": null,
   "metadata": {},
   "outputs": [],
   "source": [
    "length_x = 3\n",
    "bend_radius = 10\n",
    "gap = 0.2\n",
    "compare_coupler_ring_sipann_fdtd(length_x, bend_radius, gap)\n",
    "plt.ylim([-20, 0])"
   ]
  },
  {
   "cell_type": "code",
   "execution_count": null,
   "metadata": {},
   "outputs": [],
   "source": [
    "length_x = 1\n",
    "bend_radius = 5\n",
    "gap = 0.15\n",
    "compare_coupler_ring_sipann_fdtd(length_x, bend_radius, gap)"
   ]
  },
  {
   "cell_type": "code",
   "execution_count": null,
   "metadata": {},
   "outputs": [],
   "source": [
    "length_x = 1\n",
    "bend_radius = 5\n",
    "gap = 0.15\n",
    "\n",
    "m1 = coupler_ring_fdtd(length_x=length_x, radius=radius, gap=gap)\n",
    "m2 = gc.coupler_ring(length_x=length_x, radius=radius, gap=gap)\n",
    "wavelengths = np.linspace(1450, 1650, 1024) * 1e-9\n",
    "\n",
    "gs.plot_model(m1, wavelengths=wavelengths)\n",
    "gs.plot_model(m2, wavelengths=wavelengths)"
   ]
  },
  {
   "cell_type": "code",
   "execution_count": null,
   "metadata": {},
   "outputs": [],
   "source": [
    "length_x = 4\n",
    "bend_radius = 5\n",
    "gap = 0.15\n",
    "\n",
    "m1 = coupler_ring_fdtd(length_x=length_x, radius=radius, gap=gap)\n",
    "m2 = gc.coupler_ring(length_x=length_x, radius=radius, gap=gap)\n",
    "wavelengths = np.linspace(1450, 1650, 1024) * 1e-9\n",
    "\n",
    "gs.plot_model(m1, wavelengths=wavelengths)\n",
    "gs.plot_model(m2, wavelengths=wavelengths)"
   ]
  },
  {
   "cell_type": "markdown",
   "metadata": {},
   "source": [
    "## Directional Coupler"
   ]
  },
  {
   "cell_type": "code",
   "execution_count": null,
   "metadata": {},
   "outputs": [],
   "source": [
    "import numpy as np\n",
    "import gdsfactory as gf\n",
    "import gdslib as gl\n",
    "import gdslib.simphony as gs\n",
    "from gdslib.simphony.components.coupler_fdtd import coupler_fdtd\n",
    "\n",
    "coupler_layout = gf.components.coupler()\n",
    "coupler_layout.plot()"
   ]
  },
  {
   "cell_type": "code",
   "execution_count": null,
   "metadata": {},
   "outputs": [],
   "source": [
    "length = 20\n",
    "gap = 0.224\n",
    "\n",
    "coupler_laytout = gf.components.coupler(length=length, gap=gap)\n",
    "m1 = coupler_fdtd(c=coupler_layout)\n",
    "m2 = gc.coupler(length=length, gap=gap)\n",
    "wavelengths = np.linspace(1450, 1650, 1024) * 1e-9\n",
    "\n",
    "gs.plot_model(m1, wavelengths=wavelengths)\n",
    "gs.plot_model(m2, wavelengths=wavelengths)"
   ]
  },
  {
   "cell_type": "code",
   "execution_count": null,
   "metadata": {},
   "outputs": [],
   "source": [
    "gs.plot_model(m1, wavelengths=wavelengths)\n",
    "gs.plot_model(m2, wavelengths=wavelengths)\n",
    "plt.ylim([-10, 0])"
   ]
  },
  {
   "cell_type": "code",
   "execution_count": null,
   "metadata": {},
   "outputs": [],
   "source": [
    "length = 40\n",
    "gap = 0.224\n",
    "\n",
    "c = gf.components.coupler(length=length, gap=gap)\n",
    "m1 = coupler_fdtd(c=c)\n",
    "m2 = gc.coupler(length=length, gap=gap)\n",
    "wavelengths = np.linspace(1450, 1650, 1024) * 1e-9\n",
    "\n",
    "gs.plot_model(m1, wavelengths=wavelengths)\n",
    "gs.plot_model(m2, wavelengths=wavelengths)"
   ]
  },
  {
   "cell_type": "code",
   "execution_count": null,
   "metadata": {},
   "outputs": [],
   "source": [
    "gs.plot_model(m1, wavelengths=wavelengths)\n",
    "gs.plot_model(m2, wavelengths=wavelengths)\n",
    "plt.ylim([-10, 0])"
   ]
  }
 ],
 "metadata": {
  "kernelspec": {
   "display_name": "Python 3",
   "language": "python",
   "name": "python3"
  },
  "language_info": {
   "codemirror_mode": {
    "name": "ipython",
    "version": 3
   },
   "file_extension": ".py",
   "mimetype": "text/x-python",
   "name": "python",
   "nbconvert_exporter": "python",
   "pygments_lexer": "ipython3",
   "version": "3.9.5"
  }
 },
 "nbformat": 4,
 "nbformat_minor": 4
}
