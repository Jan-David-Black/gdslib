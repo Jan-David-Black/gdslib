{
 "cells": [
  {
   "cell_type": "markdown",
   "metadata": {},
   "source": [
    "# Component models\n",
    "\n",
    "We build simphony component models from :\n",
    "\n",
    "- Sparameters from Lumerical FDTD simulations thanks to the gdsfactory Lumerical interface\n",
    "- [SiPANN](https://sipann.readthedocs.io/en/latest/?badge=latest) open source package"
   ]
  },
  {
   "cell_type": "code",
   "execution_count": null,
   "metadata": {},
   "outputs": [],
   "source": [
    "import numpy as np\n",
    "import matplotlib.pyplot as plt\n",
    "import gdslib as gl\n",
    "import gdslib.simphony as gs\n",
    "import gdslib.simphony.components as gc"
   ]
  },
  {
   "cell_type": "markdown",
   "metadata": {},
   "source": [
    "# Straight\n",
    "\n",
    "Lets start with the Sparameter model of a straight waveguide.\n",
    "\n",
    "The models are for lossless elements."
   ]
  },
  {
   "cell_type": "code",
   "execution_count": null,
   "metadata": {},
   "outputs": [],
   "source": [
    "m = gc.straight()\n",
    "wavelengths = np.linspace(1500, 1600, 128)*1e-9\n",
    "gs.plot_model(m, logscale=False, wavelengths=wavelengths)"
   ]
  },
  {
   "cell_type": "code",
   "execution_count": null,
   "metadata": {},
   "outputs": [],
   "source": [
    "m = gc.straight()\n",
    "wavelengths = np.linspace(1500, 1600, 128)*1e-9\n",
    "gs.plot_model(m, phase=True, wavelengths=wavelengths)"
   ]
  },
  {
   "cell_type": "markdown",
   "metadata": {},
   "source": [
    "## Bend"
   ]
  },
  {
   "cell_type": "code",
   "execution_count": null,
   "metadata": {},
   "outputs": [],
   "source": [
    "m = gc.bend_circular(radius=2) # this bend should have some loss\n",
    "gs.plot_model(m, logscale=False, wavelengths=wavelengths)"
   ]
  },
  {
   "cell_type": "code",
   "execution_count": null,
   "metadata": {},
   "outputs": [],
   "source": [
    "m = gc.mmi1x2() # this model comes from Lumerical FDTD 3D sims\n",
    "gs.plot_model(m, pin_in='W0')"
   ]
  },
  {
   "cell_type": "code",
   "execution_count": null,
   "metadata": {},
   "outputs": [],
   "source": [
    "m = gc.mmi1x2()\n",
    "gs.plot_model(m, pin_in='W0', phase=True)\n",
    "plt.xlim([1540, 1570])"
   ]
  },
  {
   "cell_type": "code",
   "execution_count": null,
   "metadata": {},
   "outputs": [],
   "source": [
    "m.pins"
   ]
  },
  {
   "cell_type": "markdown",
   "metadata": {},
   "source": [
    "As you can see the MMI has -20dB reflection and -3dB transmission"
   ]
  },
  {
   "cell_type": "code",
   "execution_count": null,
   "metadata": {},
   "outputs": [],
   "source": [
    "gs.plot_model(m, pins=('E1', 'E0'))"
   ]
  },
  {
   "cell_type": "code",
   "execution_count": null,
   "metadata": {},
   "outputs": [],
   "source": [
    "m.pins"
   ]
  },
  {
   "cell_type": "code",
   "execution_count": null,
   "metadata": {},
   "outputs": [],
   "source": [
    "m = gc.mmi2x2() # this model comes from Lumerical FDTD 3D sims\n",
    "gs.plot_model(m)"
   ]
  },
  {
   "cell_type": "code",
   "execution_count": null,
   "metadata": {},
   "outputs": [],
   "source": [
    "gs.plot_model(m, pins=('E1', 'E0'))"
   ]
  },
  {
   "cell_type": "code",
   "execution_count": null,
   "metadata": {},
   "outputs": [],
   "source": [
    "m = gc.coupler_ring()\n",
    "gs.plot_model(m, logscale=False, wavelengths=wavelengths)"
   ]
  },
  {
   "cell_type": "code",
   "execution_count": null,
   "metadata": {},
   "outputs": [],
   "source": [
    "gc.coupler_ring?"
   ]
  },
  {
   "cell_type": "code",
   "execution_count": null,
   "metadata": {},
   "outputs": [],
   "source": [
    "m = gc.coupler_ring(gap=0.3)\n",
    "gs.plot_model(m, logscale=False, wavelengths=wavelengths)"
   ]
  },
  {
   "cell_type": "code",
   "execution_count": null,
   "metadata": {},
   "outputs": [],
   "source": [
    "m = gc.coupler(gap=0.3)\n",
    "gs.plot_model(m, logscale=False, wavelengths=wavelengths)"
   ]
  }
 ],
 "metadata": {
  "kernelspec": {
   "display_name": "Python 3 (ipykernel)",
   "language": "python",
   "name": "python3"
  },
  "language_info": {
   "codemirror_mode": {
    "name": "ipython",
    "version": 3
   },
   "file_extension": ".py",
   "mimetype": "text/x-python",
   "name": "python",
   "nbconvert_exporter": "python",
   "pygments_lexer": "ipython3",
   "version": "3.9.5"
  }
 },
 "nbformat": 4,
 "nbformat_minor": 4
}
