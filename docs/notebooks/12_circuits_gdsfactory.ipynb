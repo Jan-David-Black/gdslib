{
 "cells": [
  {
   "cell_type": "markdown",
   "metadata": {},
   "source": [
    "# Circuit (from gdsfactory)\n",
    "\n",
    "You can import circuits from gdsfactory"
   ]
  },
  {
   "cell_type": "code",
   "execution_count": null,
   "metadata": {},
   "outputs": [],
   "source": [
    "from typing import Callable\n",
    "from simphony.library import siepic\n",
    "from simphony.netlist import Subcircuit\n",
    "import gdsfactory as gf\n",
    "\n",
    "import gdslib as gl\n",
    "import gdslib.simphony as gs"
   ]
  },
  {
   "cell_type": "code",
   "execution_count": null,
   "metadata": {},
   "outputs": [],
   "source": [
    "mzi_layout = gf.components.mzi(delta_length=10, bend=gf.c.bend_circular)\n",
    "mzi_layout.plot()"
   ]
  },
  {
   "cell_type": "code",
   "execution_count": null,
   "metadata": {},
   "outputs": [],
   "source": [
    "mzi_layout.plot_netlist()"
   ]
  },
  {
   "cell_type": "markdown",
   "metadata": {},
   "source": [
    "FIXME: needs a netlist extractor that can extract hiearchical circuits\n",
    "\n",
    "```python\n",
    "cm = gs.component_to_circuit(mzi_layout)\n",
    "mmi_name = 'mmi1x2_0cbef3fd'\n",
    "mmii = f\"{mmi_name}_0p0_0p0\"\n",
    "mmio = f\"{mmi_name}_65p6_m0p0\"\n",
    "cm.elements[mmii].pins[\"W0\"] = \"input\"\n",
    "cm.elements[mmio].pins[\"W0\"] = \"output\"\n",
    "cm.pins\n",
    "gs.plot_circuit(cm)\n",
    "```"
   ]
  },
  {
   "cell_type": "code",
   "execution_count": null,
   "metadata": {},
   "outputs": [],
   "source": []
  }
 ],
 "metadata": {
  "kernelspec": {
   "display_name": "Python 3 (ipykernel)",
   "language": "python",
   "name": "python3"
  },
  "language_info": {
   "codemirror_mode": {
    "name": "ipython",
    "version": 3
   },
   "file_extension": ".py",
   "mimetype": "text/x-python",
   "name": "python",
   "nbconvert_exporter": "python",
   "pygments_lexer": "ipython3",
   "version": "3.9.5"
  }
 },
 "nbformat": 4,
 "nbformat_minor": 4
}
